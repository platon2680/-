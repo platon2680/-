{
 "cells": [
  {
   "cell_type": "code",
   "execution_count": 1,
   "id": "2feb916c",
   "metadata": {},
   "outputs": [
    {
     "name": "stdout",
     "output_type": "stream",
     "text": [
      "Игра не выгодна! Ваш проигрыш составил: -21030 руб, с Ваших 100000 руб.\n"
     ]
    }
   ],
   "source": [
    "import numpy as np\n",
    "trials = 100000    # Количество попыток\n",
    "results_list = []\n",
    "for i in range(trials):\n",
    "    random_score = np.random.randint(0, 1000)    # Генерация случайного числа от 0 до 999\n",
    "    if random_score == 777:\n",
    "        results_list.append(200)\n",
    "    elif random_score == 999:\n",
    "        results_list.append(100)\n",
    "    elif random_score == 555:\n",
    "        results_list.append(50)\n",
    "    elif random_score == 333:\n",
    "        results_list.append(15)\n",
    "    elif random_score == 111:\n",
    "        results_list.append(10)\n",
    "    elif random_score % 100 == 77:\n",
    "        results_list.append(5)\n",
    "    elif random_score % 10 == 7:\n",
    "        results_list.append(3)\n",
    "    elif random_score % 100 == 0:\n",
    "        results_list.append(2)\n",
    "    elif random_score % 10 == 0:\n",
    "        results_list.append(1)\n",
    "    else:\n",
    "            None \n",
    "\n",
    "total_profit = sum(results_list) - trials\n",
    "total_profit\n",
    "if total_profit > 0:\n",
    "    print('Игра выгодна! Ваш выйграш составил:', total_profit, 'руб, с Ваших', trials,'руб.')\n",
    "else:\n",
    "    print('Игра не выгодна! Ваш проигрыш составил:', total_profit, 'руб, с Ваших', trials, 'руб.')\n"
   ]
  },
  {
   "cell_type": "code",
   "execution_count": 48,
   "id": "f2b8296f",
   "metadata": {},
   "outputs": [
    {
     "name": "stdout",
     "output_type": "stream",
     "text": [
      "Игра не выгодна, в среднем проигрыш составляет: -1906 руб. c 10000 руб.\n"
     ]
    }
   ],
   "source": [
    "games = 100\n",
    "profit_list = []\n",
    "for x in range(games):\n",
    "    trials = 10000\n",
    "    results_list = []\n",
    "    for i in range(trials):\n",
    "        random_score = np.random.randint(0, 1000)\n",
    "        if random_score == 999:\n",
    "            results_list.append(100)\n",
    "        elif random_score == 777:\n",
    "            results_list.append(200)\n",
    "        elif random_score == 555:\n",
    "            results_list.append(50)\n",
    "        elif random_score == 333:\n",
    "            results_list.append(15)\n",
    "        elif random_score == 111:\n",
    "            results_list.append(10)\n",
    "        elif random_score % 100 == 77:\n",
    "            results_list.append(5)\n",
    "        elif random_score % 10 == 7:\n",
    "            results_list.append(3)        \n",
    "        elif random_score % 100 == 0:\n",
    "            results_list.append(2)\n",
    "        elif random_score % 10 == 0:\n",
    "            results_list.append(1)\n",
    "        else:\n",
    "            results_list.append(0)\n",
    "    profit = sum(results_list) - trials\n",
    "    profit_list.append(profit)\n",
    "    profit += 1\n",
    "avarage_profit = round(sum(profit_list) / games)\n",
    "if avarage_profit > 0:\n",
    "    print('Игра выгодна, в среднем выйгрыш составляет:', avarage_profit, 'руб. c', trials, 'руб.')\n",
    "else:\n",
    "    print('Игра не выгодна, в среднем проигрыш составляет:', avarage_profit, 'руб. c', trials, 'руб.')"
   ]
  },
  {
   "cell_type": "code",
   "execution_count": null,
   "id": "f055c6a2",
   "metadata": {},
   "outputs": [],
   "source": []
  },
  {
   "cell_type": "code",
   "execution_count": null,
   "id": "7bc5d816",
   "metadata": {},
   "outputs": [],
   "source": []
  }
 ],
 "metadata": {
  "kernelspec": {
   "display_name": "Python 3 (ipykernel)",
   "language": "python",
   "name": "python3"
  },
  "language_info": {
   "codemirror_mode": {
    "name": "ipython",
    "version": 3
   },
   "file_extension": ".py",
   "mimetype": "text/x-python",
   "name": "python",
   "nbconvert_exporter": "python",
   "pygments_lexer": "ipython3",
   "version": "3.9.7"
  }
 },
 "nbformat": 4,
 "nbformat_minor": 5
}
